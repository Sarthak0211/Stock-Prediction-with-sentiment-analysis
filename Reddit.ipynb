{
  "cells": [
    {
      "cell_type": "code",
      "execution_count": null,
      "metadata": {
        "id": "-imEczRQernw"
      },
      "outputs": [],
      "source": [
        "from bs4 import BeautifulSoup\n",
        "from urllib import request\n",
        "import json\n",
        "import numpy as np\n",
        "import pandas as pd\n",
        "from threading import Event\n",
        "from datetime import datetime"
      ]
    },
    {
      "cell_type": "code",
      "execution_count": null,
      "metadata": {
        "id": "n4JSC19XmWJo",
        "outputId": "d775f1f4-2138-4767-a8cc-3daed96b888b"
      },
      "outputs": [
        {
          "name": "stdout",
          "output_type": "stream",
          "text": [
            "2010-01-01\n"
          ]
        }
      ],
      "source": [
        "print(datetime.utcfromtimestamp(1262304000).strftime('%Y-%m-%d')) "
      ]
    },
    {
      "cell_type": "code",
      "execution_count": null,
      "metadata": {
        "colab": {
          "base_uri": "https://localhost:8080/"
        },
        "id": "sEqDEGL7MhIo",
        "outputId": "24645166-01e1-4c4f-aa7e-f78d015e19a0"
      },
      "outputs": [
        {
          "name": "stdout",
          "output_type": "stream",
          "text": [
            "1828\n",
            "1827\n"
          ]
        }
      ],
      "source": [
        "date=np.arange(1451520000,1609459200,86400)\n",
        "time=pd.date_range(start=\"2016-01-01\",end='2020-12-31', freq=\"D\")\n",
        "print(len(date))\n",
        "print(len(time))"
      ]
    },
    {
      "cell_type": "code",
      "execution_count": null,
      "metadata": {
        "id": "g3Bjn8n2_iHY"
      },
      "outputs": [],
      "source": [
        "df=pd.DataFrame({'Date': time})\n",
        "df = df.set_index('Date')"
      ]
    },
    {
      "cell_type": "code",
      "execution_count": null,
      "metadata": {
        "id": "0O0qCFy02CSe"
      },
      "outputs": [],
      "source": [
        "dic={}\n",
        "j=0\n",
        "for i in range(len(date)-1):\n",
        "   rows=[]\n",
        "   start=date[i]\n",
        "   end=date[i+1]\n",
        "   url='https://api.pushshift.io/reddit/submission/search/?after={0}&size=5&before={1}&sort_type=score&sort=desc&subreddit=technews'.format(start,end)\n",
        "   html = request.urlopen(url).read()\n",
        "   soup = BeautifulSoup(html,'html.parser')\n",
        "   site_json=json.loads(soup.text)\n",
        "   DATE=datetime.utcfromtimestamp(start).strftime('%Y-%m-%d')\n",
        "   if len(site_json['data'])>0:\n",
        "    for i in range(len(site_json['data'])):\n",
        "        rows.append(site_json['data'][i]['title']) \n",
        "    dic[DATE]=rows\n",
        "   j+=1\n",
        "   if j==15:\n",
        "     j=0\n",
        "     Event().wait(5)\n",
        "     continue\n",
        "   else:\n",
        "     continue"
      ]
    },
    {
      "cell_type": "code",
      "execution_count": null,
      "metadata": {
        "id": "z8Mcu-w1VPhE"
      },
      "outputs": [],
      "source": [
        "#time=pd.date_range(start=\"201-12-30\", periods=368, freq=\"D\")\n",
        "df1=pd.DataFrame({'Date': time})"
      ]
    },
    {
      "cell_type": "code",
      "execution_count": null,
      "metadata": {
        "id": "KMXGnbix3A5n"
      },
      "outputs": [],
      "source": [
        "for i in range(0,25):\n",
        "   df1['Top {0}'.format(i+1)]=rows[i:59350:25]"
      ]
    },
    {
      "cell_type": "code",
      "execution_count": null,
      "metadata": {
        "colab": {
          "base_uri": "https://localhost:8080/",
          "height": 753
        },
        "id": "twM2tRPTr-Vk",
        "outputId": "46c84827-8737-45dc-b512-c5b2d93b147a"
      },
      "outputs": [
        {
          "data": {
            "text/html": [
              "<div>\n",
              "<style scoped>\n",
              "    .dataframe tbody tr th:only-of-type {\n",
              "        vertical-align: middle;\n",
              "    }\n",
              "\n",
              "    .dataframe tbody tr th {\n",
              "        vertical-align: top;\n",
              "    }\n",
              "\n",
              "    .dataframe thead th {\n",
              "        text-align: right;\n",
              "    }\n",
              "</style>\n",
              "<table border=\"1\" class=\"dataframe\">\n",
              "  <thead>\n",
              "    <tr style=\"text-align: right;\">\n",
              "      <th></th>\n",
              "      <th>Date</th>\n",
              "      <th>Top 1</th>\n",
              "      <th>Top 2</th>\n",
              "      <th>Top 3</th>\n",
              "      <th>Top 4</th>\n",
              "      <th>Top 5</th>\n",
              "      <th>Top 6</th>\n",
              "      <th>Top 7</th>\n",
              "      <th>Top 8</th>\n",
              "      <th>Top 9</th>\n",
              "      <th>...</th>\n",
              "      <th>Top 16</th>\n",
              "      <th>Top 17</th>\n",
              "      <th>Top 18</th>\n",
              "      <th>Top 19</th>\n",
              "      <th>Top 20</th>\n",
              "      <th>Top 21</th>\n",
              "      <th>Top 22</th>\n",
              "      <th>Top 23</th>\n",
              "      <th>Top 24</th>\n",
              "      <th>Top 25</th>\n",
              "    </tr>\n",
              "  </thead>\n",
              "  <tbody>\n",
              "    <tr>\n",
              "      <th>2369</th>\n",
              "      <td>2016-06-27</td>\n",
              "      <td>Barclays and RBS shares suspended from trading...</td>\n",
              "      <td>S&amp;P cuts United Kingdom sovereign credit ratin...</td>\n",
              "      <td>Poland 'shocked' by xenophobic abuse of Poles ...</td>\n",
              "      <td>There will be no second referendum, cabinet ag...</td>\n",
              "      <td>Brexit campaign wipes its homepage amid accusa...</td>\n",
              "      <td>Brexit cost investors $2 trillion, the worst o...</td>\n",
              "      <td>Sterling dips below Friday's 31-year low amid ...</td>\n",
              "      <td>No negative news about South African President...</td>\n",
              "      <td>Hong Kong democracy activists call for return ...</td>\n",
              "      <td>...</td>\n",
              "      <td>Pound Drops Below Post-Brexit Vote Low, Sinkin...</td>\n",
              "      <td>English will not be an official EU language af...</td>\n",
              "      <td>Brexit was a backlash against globalisation - ...</td>\n",
              "      <td>Giant panda in Macau gives birth to twins</td>\n",
              "      <td>Iceland beats England 2-1 and kicks them out o...</td>\n",
              "      <td>Sea turtle 'beaten and left for dead' on beach...</td>\n",
              "      <td>German lawyers to probe Erdogan over alleged w...</td>\n",
              "      <td>Erdogan apologizes to Putin over the downed je...</td>\n",
              "      <td>Boris Johnson says the UK will continue to \"in...</td>\n",
              "      <td>Richard Branson is calling on the UK governmen...</td>\n",
              "    </tr>\n",
              "    <tr>\n",
              "      <th>2370</th>\n",
              "      <td>2016-06-28</td>\n",
              "      <td>Explosion At Airport In Istanbul</td>\n",
              "      <td>2,500 Scientists To Australia: If You Want To ...</td>\n",
              "      <td>The personal details of 112,000 French police ...</td>\n",
              "      <td>Jehovah's Witnesses reportedly destroy 7000 ye...</td>\n",
              "      <td>Huge helium deposit found in Africa</td>\n",
              "      <td>China orders total ban of Lady Gaga after meet...</td>\n",
              "      <td>CEO of the South African state broadcaster qui...</td>\n",
              "      <td>A Muslim Shop in the UK Was Just Firebombed Wh...</td>\n",
              "      <td>UK's Osborne: 'Absolutely' going to have to cu...</td>\n",
              "      <td>...</td>\n",
              "      <td>Siemens freezes new UK wind power investment f...</td>\n",
              "      <td>US, Canada and Mexico pledge 50% of power from...</td>\n",
              "      <td>Brexiteer Nigel Farage To EU: 'You're Not Laug...</td>\n",
              "      <td>There is increasing evidence that Australia is...</td>\n",
              "      <td>Richard Branson, the founder of Virgin Group, ...</td>\n",
              "      <td>37,000-yr-old skull from Borneo reveals surpri...</td>\n",
              "      <td>Palestinians stone Western Wall worshipers; po...</td>\n",
              "      <td>Citizenship applications up 500% for Brits in ...</td>\n",
              "      <td>Jean-Claude Juncker asks Farage: Why are you h...</td>\n",
              "      <td>\"Romanians for Remainians\" offering a new home...</td>\n",
              "    </tr>\n",
              "    <tr>\n",
              "      <th>2371</th>\n",
              "      <td>2016-06-29</td>\n",
              "      <td>Yemeni former president: Terrorism is the offs...</td>\n",
              "      <td>Mutilated body washes up on Rio beach to be us...</td>\n",
              "      <td>Six gay men in Ivory Coast were abused and for...</td>\n",
              "      <td>UK must accept freedom of movement to access E...</td>\n",
              "      <td>‘Devastated’: scientists too late to captive b...</td>\n",
              "      <td>British Labor Party leader Jeremy Corbyn loses...</td>\n",
              "      <td>Puerto Rico will default on $1 billion of debt...</td>\n",
              "      <td>Republic of Ireland fans to be awarded medal f...</td>\n",
              "      <td>Unprecedented’: Scientists declare ‘global cli...</td>\n",
              "      <td>...</td>\n",
              "      <td>Islamic State bombings in southern Yemen kill ...</td>\n",
              "      <td>Escape Tunnel, Dug by Hand, Is Found at Holoca...</td>\n",
              "      <td>The land under Beijing is sinking by as much a...</td>\n",
              "      <td>Calls to suspend Saudi Arabia from UN Human Ri...</td>\n",
              "      <td>Car bomb and Anti-Islamic attack on Mosque in ...</td>\n",
              "      <td>Emaciated lions in Taiz Zoo are trapped in blo...</td>\n",
              "      <td>Rupert Murdoch describes Brexit as 'wonderful'...</td>\n",
              "      <td>British pedophile sentenced to 85 years in US ...</td>\n",
              "      <td>US permitted 1,200 offshore fracks in Gulf of ...</td>\n",
              "      <td>Google Found Disastrous Symantec and Norton Vu...</td>\n",
              "    </tr>\n",
              "    <tr>\n",
              "      <th>2372</th>\n",
              "      <td>2016-06-30</td>\n",
              "      <td>Jamaica proposes marijuana dispensers for tour...</td>\n",
              "      <td>Stephen Hawking says pollution and 'stupidity'...</td>\n",
              "      <td>Boris Johnson says he will not run for Tory pa...</td>\n",
              "      <td>Facebook wins privacy case, can track any Belg...</td>\n",
              "      <td>Switzerland denies citizenship to Muslim immig...</td>\n",
              "      <td>Palestinian terrorist stabs israeli teen girl ...</td>\n",
              "      <td>Afghan suicide bomber 'kills up to 40' - BBC News</td>\n",
              "      <td>US airstrikes kill at least 250 ISIS fighters ...</td>\n",
              "      <td>Turkish Cop Who Took Down Istanbul Gunman Hail...</td>\n",
              "      <td>...</td>\n",
              "      <td>The men who carried out Tuesday's terror attac...</td>\n",
              "      <td>More Than 100 Nobel Laureates Call Out Greenpe...</td>\n",
              "      <td>S&amp;P revises European Union credit rating to 'A...</td>\n",
              "      <td>U.S. sailors detained by Iran spoke too much u...</td>\n",
              "      <td>‘We will be swimming in ridicule’ - French bea...</td>\n",
              "      <td>Venezuela, where anger over food shortages is ...</td>\n",
              "      <td>Beyoncé's \"Support and Empower Women\" clothing...</td>\n",
              "      <td>UEFA says no minutes of silence for Istanbul v...</td>\n",
              "      <td>Islamist extremists hide huge stockpile of wea...</td>\n",
              "      <td>Ozone layer hole seems to be healing - US &amp; UK...</td>\n",
              "    </tr>\n",
              "    <tr>\n",
              "      <th>2373</th>\n",
              "      <td>2016-07-01</td>\n",
              "      <td>A 117-year-old woman in Mexico City finally re...</td>\n",
              "      <td>IMF chief backs Athens as permanent Olympic host</td>\n",
              "      <td>The president of France says if Brexit won, so...</td>\n",
              "      <td>British Man Who Must Give Police 24 Hours' Not...</td>\n",
              "      <td>100+ Nobel laureates urge Greenpeace to stop o...</td>\n",
              "      <td>Gunfire heard in Bangladeshi capital Dhaka | H...</td>\n",
              "      <td>Brazil: Huge spike in number of police killing...</td>\n",
              "      <td>Austria's highest court annuls presidential el...</td>\n",
              "      <td>German TV equipment worth 400k euros stolen in...</td>\n",
              "      <td>...</td>\n",
              "      <td>Abbas’ PLO Faction Calls Killer of 13-Year-Old...</td>\n",
              "      <td>Taiwanese warship accidentally fires missile t...</td>\n",
              "      <td>Rocket fire from Gaza hits vacant Israeli pres...</td>\n",
              "      <td>U.N. panel moves to curb bias against L.G.B.T....</td>\n",
              "      <td>The United States has placed Myanmar, Uzbekist...</td>\n",
              "      <td>Stop Bashing G.M.O. Foods, More Than 100 Nobel...</td>\n",
              "      <td>Israeli killed, three wounded after gunman ope...</td>\n",
              "      <td>India gets $1 billion loan from World Bank for...</td>\n",
              "      <td>Mass fish kill in Vietnam solved as Taiwan ste...</td>\n",
              "      <td>French MPs vote to criminalise denial of Armen...</td>\n",
              "    </tr>\n",
              "  </tbody>\n",
              "</table>\n",
              "<p>5 rows × 26 columns</p>\n",
              "</div>"
            ],
            "text/plain": [
              "           Date                                              Top 1  \\\n",
              "2369 2016-06-27  Barclays and RBS shares suspended from trading...   \n",
              "2370 2016-06-28                   Explosion At Airport In Istanbul   \n",
              "2371 2016-06-29  Yemeni former president: Terrorism is the offs...   \n",
              "2372 2016-06-30  Jamaica proposes marijuana dispensers for tour...   \n",
              "2373 2016-07-01  A 117-year-old woman in Mexico City finally re...   \n",
              "\n",
              "                                                  Top 2  \\\n",
              "2369  S&P cuts United Kingdom sovereign credit ratin...   \n",
              "2370  2,500 Scientists To Australia: If You Want To ...   \n",
              "2371  Mutilated body washes up on Rio beach to be us...   \n",
              "2372  Stephen Hawking says pollution and 'stupidity'...   \n",
              "2373   IMF chief backs Athens as permanent Olympic host   \n",
              "\n",
              "                                                  Top 3  \\\n",
              "2369  Poland 'shocked' by xenophobic abuse of Poles ...   \n",
              "2370  The personal details of 112,000 French police ...   \n",
              "2371  Six gay men in Ivory Coast were abused and for...   \n",
              "2372  Boris Johnson says he will not run for Tory pa...   \n",
              "2373  The president of France says if Brexit won, so...   \n",
              "\n",
              "                                                  Top 4  \\\n",
              "2369  There will be no second referendum, cabinet ag...   \n",
              "2370  Jehovah's Witnesses reportedly destroy 7000 ye...   \n",
              "2371  UK must accept freedom of movement to access E...   \n",
              "2372  Facebook wins privacy case, can track any Belg...   \n",
              "2373  British Man Who Must Give Police 24 Hours' Not...   \n",
              "\n",
              "                                                  Top 5  \\\n",
              "2369  Brexit campaign wipes its homepage amid accusa...   \n",
              "2370                Huge helium deposit found in Africa   \n",
              "2371  ‘Devastated’: scientists too late to captive b...   \n",
              "2372  Switzerland denies citizenship to Muslim immig...   \n",
              "2373  100+ Nobel laureates urge Greenpeace to stop o...   \n",
              "\n",
              "                                                  Top 6  \\\n",
              "2369  Brexit cost investors $2 trillion, the worst o...   \n",
              "2370  China orders total ban of Lady Gaga after meet...   \n",
              "2371  British Labor Party leader Jeremy Corbyn loses...   \n",
              "2372  Palestinian terrorist stabs israeli teen girl ...   \n",
              "2373  Gunfire heard in Bangladeshi capital Dhaka | H...   \n",
              "\n",
              "                                                  Top 7  \\\n",
              "2369  Sterling dips below Friday's 31-year low amid ...   \n",
              "2370  CEO of the South African state broadcaster qui...   \n",
              "2371  Puerto Rico will default on $1 billion of debt...   \n",
              "2372  Afghan suicide bomber 'kills up to 40' - BBC News   \n",
              "2373  Brazil: Huge spike in number of police killing...   \n",
              "\n",
              "                                                  Top 8  \\\n",
              "2369  No negative news about South African President...   \n",
              "2370  A Muslim Shop in the UK Was Just Firebombed Wh...   \n",
              "2371  Republic of Ireland fans to be awarded medal f...   \n",
              "2372  US airstrikes kill at least 250 ISIS fighters ...   \n",
              "2373  Austria's highest court annuls presidential el...   \n",
              "\n",
              "                                                  Top 9  ...  \\\n",
              "2369  Hong Kong democracy activists call for return ...  ...   \n",
              "2370  UK's Osborne: 'Absolutely' going to have to cu...  ...   \n",
              "2371  Unprecedented’: Scientists declare ‘global cli...  ...   \n",
              "2372  Turkish Cop Who Took Down Istanbul Gunman Hail...  ...   \n",
              "2373  German TV equipment worth 400k euros stolen in...  ...   \n",
              "\n",
              "                                                 Top 16  \\\n",
              "2369  Pound Drops Below Post-Brexit Vote Low, Sinkin...   \n",
              "2370  Siemens freezes new UK wind power investment f...   \n",
              "2371  Islamic State bombings in southern Yemen kill ...   \n",
              "2372  The men who carried out Tuesday's terror attac...   \n",
              "2373  Abbas’ PLO Faction Calls Killer of 13-Year-Old...   \n",
              "\n",
              "                                                 Top 17  \\\n",
              "2369  English will not be an official EU language af...   \n",
              "2370  US, Canada and Mexico pledge 50% of power from...   \n",
              "2371  Escape Tunnel, Dug by Hand, Is Found at Holoca...   \n",
              "2372  More Than 100 Nobel Laureates Call Out Greenpe...   \n",
              "2373  Taiwanese warship accidentally fires missile t...   \n",
              "\n",
              "                                                 Top 18  \\\n",
              "2369  Brexit was a backlash against globalisation - ...   \n",
              "2370  Brexiteer Nigel Farage To EU: 'You're Not Laug...   \n",
              "2371  The land under Beijing is sinking by as much a...   \n",
              "2372  S&P revises European Union credit rating to 'A...   \n",
              "2373  Rocket fire from Gaza hits vacant Israeli pres...   \n",
              "\n",
              "                                                 Top 19  \\\n",
              "2369          Giant panda in Macau gives birth to twins   \n",
              "2370  There is increasing evidence that Australia is...   \n",
              "2371  Calls to suspend Saudi Arabia from UN Human Ri...   \n",
              "2372  U.S. sailors detained by Iran spoke too much u...   \n",
              "2373  U.N. panel moves to curb bias against L.G.B.T....   \n",
              "\n",
              "                                                 Top 20  \\\n",
              "2369  Iceland beats England 2-1 and kicks them out o...   \n",
              "2370  Richard Branson, the founder of Virgin Group, ...   \n",
              "2371  Car bomb and Anti-Islamic attack on Mosque in ...   \n",
              "2372  ‘We will be swimming in ridicule’ - French bea...   \n",
              "2373  The United States has placed Myanmar, Uzbekist...   \n",
              "\n",
              "                                                 Top 21  \\\n",
              "2369  Sea turtle 'beaten and left for dead' on beach...   \n",
              "2370  37,000-yr-old skull from Borneo reveals surpri...   \n",
              "2371  Emaciated lions in Taiz Zoo are trapped in blo...   \n",
              "2372  Venezuela, where anger over food shortages is ...   \n",
              "2373  Stop Bashing G.M.O. Foods, More Than 100 Nobel...   \n",
              "\n",
              "                                                 Top 22  \\\n",
              "2369  German lawyers to probe Erdogan over alleged w...   \n",
              "2370  Palestinians stone Western Wall worshipers; po...   \n",
              "2371  Rupert Murdoch describes Brexit as 'wonderful'...   \n",
              "2372  Beyoncé's \"Support and Empower Women\" clothing...   \n",
              "2373  Israeli killed, three wounded after gunman ope...   \n",
              "\n",
              "                                                 Top 23  \\\n",
              "2369  Erdogan apologizes to Putin over the downed je...   \n",
              "2370  Citizenship applications up 500% for Brits in ...   \n",
              "2371  British pedophile sentenced to 85 years in US ...   \n",
              "2372  UEFA says no minutes of silence for Istanbul v...   \n",
              "2373  India gets $1 billion loan from World Bank for...   \n",
              "\n",
              "                                                 Top 24  \\\n",
              "2369  Boris Johnson says the UK will continue to \"in...   \n",
              "2370  Jean-Claude Juncker asks Farage: Why are you h...   \n",
              "2371  US permitted 1,200 offshore fracks in Gulf of ...   \n",
              "2372  Islamist extremists hide huge stockpile of wea...   \n",
              "2373  Mass fish kill in Vietnam solved as Taiwan ste...   \n",
              "\n",
              "                                                 Top 25  \n",
              "2369  Richard Branson is calling on the UK governmen...  \n",
              "2370  \"Romanians for Remainians\" offering a new home...  \n",
              "2371  Google Found Disastrous Symantec and Norton Vu...  \n",
              "2372  Ozone layer hole seems to be healing - US & UK...  \n",
              "2373  French MPs vote to criminalise denial of Armen...  \n",
              "\n",
              "[5 rows x 26 columns]"
            ]
          },
          "execution_count": 19,
          "metadata": {},
          "output_type": "execute_result"
        }
      ],
      "source": [
        "df1.tail()"
      ]
    },
    {
      "cell_type": "code",
      "execution_count": null,
      "metadata": {
        "id": "se-B9gTiBteH"
      },
      "outputs": [],
      "source": [
        "df1.to_csv('01-01-2010_02-07-2016.csv')"
      ]
    },
    {
      "cell_type": "code",
      "execution_count": null,
      "metadata": {
        "id": "49sSKQyMW-PK"
      },
      "outputs": [],
      "source": [
        "df=pd.read_csv('data (1).csv')"
      ]
    },
    {
      "cell_type": "code",
      "execution_count": null,
      "metadata": {
        "id": "eV5TWLm5Jnsd"
      },
      "outputs": [],
      "source": [
        "def pad_dict_list(dict_list, padel):\n",
        "    lmax = 0\n",
        "    for lname in dict_list.keys():\n",
        "        lmax = max(lmax, len(dict_list[lname]))\n",
        "    for lname in dict_list.keys():\n",
        "        ll = len(dict_list[lname])\n",
        "        if  ll < lmax:\n",
        "            dict_list[lname] += [padel] * (lmax - ll)\n",
        "    return dict_list"
      ]
    },
    {
      "cell_type": "code",
      "execution_count": null,
      "metadata": {
        "id": "11c04bP6mWJs"
      },
      "outputs": [],
      "source": [
        "dic1=pad_dict_list(dic,\"\")"
      ]
    },
    {
      "cell_type": "code",
      "execution_count": null,
      "metadata": {
        "id": "fxfIPbGmmWJs"
      },
      "outputs": [],
      "source": [
        "new = pd.DataFrame.from_dict(dic1).T"
      ]
    },
    {
      "cell_type": "code",
      "execution_count": null,
      "metadata": {
        "id": "4VMDqj5gmWJs"
      },
      "outputs": [],
      "source": [
        "new.to_csv('technews_from_2016_till_2020.csv')"
      ]
    },
    {
      "cell_type": "code",
      "execution_count": null,
      "metadata": {
        "id": "YPJTZwgsmWJs",
        "outputId": "103321bd-7984-43d1-d9ee-b6afd0f7780a"
      },
      "outputs": [
        {
          "data": {
            "text/html": [
              "<div>\n",
              "<style scoped>\n",
              "    .dataframe tbody tr th:only-of-type {\n",
              "        vertical-align: middle;\n",
              "    }\n",
              "\n",
              "    .dataframe tbody tr th {\n",
              "        vertical-align: top;\n",
              "    }\n",
              "\n",
              "    .dataframe thead th {\n",
              "        text-align: right;\n",
              "    }\n",
              "</style>\n",
              "<table border=\"1\" class=\"dataframe\">\n",
              "  <thead>\n",
              "    <tr style=\"text-align: right;\">\n",
              "      <th></th>\n",
              "      <th>0</th>\n",
              "      <th>1</th>\n",
              "      <th>2</th>\n",
              "      <th>3</th>\n",
              "      <th>4</th>\n",
              "    </tr>\n",
              "  </thead>\n",
              "  <tbody>\n",
              "    <tr>\n",
              "      <th>2015-12-31</th>\n",
              "      <td>Marines put LS3 robot mule on shelf</td>\n",
              "      <td>Jordan Set to Provide Power with Solar Energy</td>\n",
              "      <td>\"Rideshare for Boats\" Expands in American Markets</td>\n",
              "      <td>AppAdvice’s top 10 accessories of 2015</td>\n",
              "      <td></td>\n",
              "    </tr>\n",
              "    <tr>\n",
              "      <th>2016-01-01</th>\n",
              "      <td>2015 in review: 10 defining moments in the wor...</td>\n",
              "      <td></td>\n",
              "      <td></td>\n",
              "      <td></td>\n",
              "      <td></td>\n",
              "    </tr>\n",
              "    <tr>\n",
              "      <th>2016-01-02</th>\n",
              "      <td>Disney's VertiGo robot can climb walls just li...</td>\n",
              "      <td>The First International Beauty Contest Judged ...</td>\n",
              "      <td></td>\n",
              "      <td></td>\n",
              "      <td></td>\n",
              "    </tr>\n",
              "    <tr>\n",
              "      <th>2016-01-03</th>\n",
              "      <td>These are the best period, fertility, and ovul...</td>\n",
              "      <td>Anti-ISIS Group hacked the BBC and said it was...</td>\n",
              "      <td></td>\n",
              "      <td></td>\n",
              "      <td></td>\n",
              "    </tr>\n",
              "    <tr>\n",
              "      <th>2016-01-04</th>\n",
              "      <td>New WiFi standard offers more range for less p...</td>\n",
              "      <td>Nokia gains control of Alcatel-Lucent</td>\n",
              "      <td>Breakthrough achieved in ceramics 3D printing ...</td>\n",
              "      <td>Facebook healthcare ambitions: 4 areas to watc...</td>\n",
              "      <td>Tech pundits’ tenuous but intriguing prognosti...</td>\n",
              "    </tr>\n",
              "  </tbody>\n",
              "</table>\n",
              "</div>"
            ],
            "text/plain": [
              "                                                            0  \\\n",
              "2015-12-31                Marines put LS3 robot mule on shelf   \n",
              "2016-01-01  2015 in review: 10 defining moments in the wor...   \n",
              "2016-01-02  Disney's VertiGo robot can climb walls just li...   \n",
              "2016-01-03  These are the best period, fertility, and ovul...   \n",
              "2016-01-04  New WiFi standard offers more range for less p...   \n",
              "\n",
              "                                                            1  \\\n",
              "2015-12-31      Jordan Set to Provide Power with Solar Energy   \n",
              "2016-01-01                                                      \n",
              "2016-01-02  The First International Beauty Contest Judged ...   \n",
              "2016-01-03  Anti-ISIS Group hacked the BBC and said it was...   \n",
              "2016-01-04              Nokia gains control of Alcatel-Lucent   \n",
              "\n",
              "                                                            2  \\\n",
              "2015-12-31  \"Rideshare for Boats\" Expands in American Markets   \n",
              "2016-01-01                                                      \n",
              "2016-01-02                                                      \n",
              "2016-01-03                                                      \n",
              "2016-01-04  Breakthrough achieved in ceramics 3D printing ...   \n",
              "\n",
              "                                                            3  \\\n",
              "2015-12-31             AppAdvice’s top 10 accessories of 2015   \n",
              "2016-01-01                                                      \n",
              "2016-01-02                                                      \n",
              "2016-01-03                                                      \n",
              "2016-01-04  Facebook healthcare ambitions: 4 areas to watc...   \n",
              "\n",
              "                                                            4  \n",
              "2015-12-31                                                     \n",
              "2016-01-01                                                     \n",
              "2016-01-02                                                     \n",
              "2016-01-03                                                     \n",
              "2016-01-04  Tech pundits’ tenuous but intriguing prognosti...  "
            ]
          },
          "execution_count": 23,
          "metadata": {},
          "output_type": "execute_result"
        }
      ],
      "source": [
        "new.head()"
      ]
    },
    {
      "cell_type": "code",
      "execution_count": null,
      "metadata": {
        "id": "er7yfRAemWJs"
      },
      "outputs": [],
      "source": [
        ""
      ]
    }
  ],
  "metadata": {
    "colab": {
      "collapsed_sections": [],
      "name": "Reddit.ipynb",
      "provenance": []
    },
    "kernelspec": {
      "display_name": "Python 3",
      "language": "python",
      "name": "python3"
    },
    "language_info": {
      "codemirror_mode": {
        "name": "ipython",
        "version": 3
      },
      "file_extension": ".py",
      "mimetype": "text/x-python",
      "name": "python",
      "nbconvert_exporter": "python",
      "pygments_lexer": "ipython3",
      "version": "3.8.5"
    }
  },
  "nbformat": 4,
  "nbformat_minor": 0
}